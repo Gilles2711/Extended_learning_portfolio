{
  "nbformat": 4,
  "nbformat_minor": 0,
  "metadata": {
    "colab": {
      "name": "Untitled5.ipynb",
      "provenance": [],
      "authorship_tag": "ABX9TyOBA1Z2gLzXul6T/+0udzUz",
      "include_colab_link": true
    },
    "kernelspec": {
      "name": "python3",
      "display_name": "Python 3"
    },
    "language_info": {
      "name": "python"
    }
  },
  "cells": [
    {
      "cell_type": "markdown",
      "metadata": {
        "id": "view-in-github",
        "colab_type": "text"
      },
      "source": [
        "<a href=\"https://colab.research.google.com/github/Gilles2711/Extended_learning_portfolio/blob/main/Question%201.ipynb\" target=\"_parent\"><img src=\"https://colab.research.google.com/assets/colab-badge.svg\" alt=\"Open In Colab\"/></a>"
      ]
    },
    {
      "cell_type": "code",
      "execution_count": 23,
      "metadata": {
        "colab": {
          "base_uri": "https://localhost:8080/"
        },
        "id": "415qRbi2366O",
        "outputId": "e3e4ad7d-6ec6-451d-de47-fbb68d066747"
      },
      "outputs": [
        {
          "output_type": "stream",
          "name": "stdout",
          "text": [
            "Currency Exchange\n",
            "Enter (D) for Dollar to Australian Dollar or Enter (Y) for Yen to Australian Dollar)Y\n",
            "How much would you like to convert: 2345\n",
            "Convertion of Yen to Auastralian Dollar is A$ 23.45\n"
          ]
        }
      ],
      "source": [
        "print(\"Currency Exchange\")\n",
        "Exchange = input(\"Enter (D) for Dollar to Australian Dollar or Enter (Y) for Yen to Australian Dollar)\")\n",
        "if Exchange == \"D\" :\n",
        " ptd = float(input(\"How much would you like to convert: \"))\n",
        " f = ptd * 1.38\n",
        " f2 = round(f,2)\n",
        " print(\"Convertion of Dollar to Australian Dollar is A$\", f2)\n",
        "if Exchange == \"Y\":\n",
        "  ptd = float(input(\"How much would you like to convert: \"))\n",
        "  f = ptd * 0.010\n",
        "  f2 = round(f,2)\n",
        "  print(\"Convertion of Yen to Auastralian Dollar is A$\", f2)"
      ]
    }
  ]
}